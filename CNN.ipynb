{
 "cells": [
  {
   "cell_type": "markdown",
   "id": "80b51a1d",
   "metadata": {},
   "source": [
    "# Introduction"
   ]
  },
  {
   "cell_type": "markdown",
   "id": "d204729a",
   "metadata": {},
   "source": [
    "This is a 4 layers Convolutional Neural Network for handwritten digit recognition on MNIST dataset.\n",
    "I achieved <b>99.66%</b> of validation accuracy with pure CNN model with 1h45p training."
   ]
  },
  {
   "cell_type": "code",
   "execution_count": 1,
   "id": "ccc30b31",
   "metadata": {},
   "outputs": [],
   "source": [
    "import numpy as np\n",
    "import pandas as pd\n",
    "import matplotlib.pyplot as plt\n",
    "import time\n",
    "%matplotlib inline\n",
    "\n",
    "from tensorflow import keras\n",
    "from tensorflow.keras.datasets import mnist\n",
    "from tensorflow.keras.utils import to_categorical\n",
    "from tensorflow.keras.preprocessing.image import ImageDataGenerator\n",
    "\n",
    "from tensorflow.keras.models import Sequential\n",
    "from tensorflow.keras.layers import Dense, Conv2D, MaxPool2D, Flatten, BatchNormalization, Dropout\n",
    "from tensorflow.keras.preprocessing.image import ImageDataGenerator\n",
    "from tensorflow.keras.callbacks import ReduceLROnPlateau\n",
    "\n",
    "from sklearn.metrics import confusion_matrix\n",
    "import itertools"
   ]
  },
  {
   "cell_type": "markdown",
   "id": "5a51a4b9",
   "metadata": {},
   "source": [
    "# Data Preparation"
   ]
  },
  {
   "cell_type": "markdown",
   "id": "01ebe65a",
   "metadata": {},
   "source": [
    "### Load data"
   ]
  },
  {
   "cell_type": "code",
   "execution_count": 2,
   "id": "d3a7af4c",
   "metadata": {},
   "outputs": [],
   "source": [
    "(X_train, y_train), (X_test, y_test) = mnist.load_data()"
   ]
  },
  {
   "cell_type": "markdown",
   "id": "effb7d73",
   "metadata": {},
   "source": [
    "### Data normalization & Reshape"
   ]
  },
  {
   "cell_type": "code",
   "execution_count": 3,
   "id": "cc2f8219",
   "metadata": {},
   "outputs": [],
   "source": [
    "X_train = X_train / 255\n",
    "X_train = X_train.reshape(-1, 28, 28, 1)\n",
    "X_test = X_test / 255\n",
    "X_test = X_test.reshape(-1, 28, 28, 1)"
   ]
  },
  {
   "cell_type": "code",
   "execution_count": 4,
   "id": "03a118e5",
   "metadata": {},
   "outputs": [
    {
     "name": "stdout",
     "output_type": "stream",
     "text": [
      "0.0\n",
      "1.0\n"
     ]
    }
   ],
   "source": [
    "print(X_train.min())\n",
    "print(X_train.max())"
   ]
  },
  {
   "cell_type": "markdown",
   "id": "39074cb5",
   "metadata": {},
   "source": [
    "### Label encoding"
   ]
  },
  {
   "cell_type": "code",
   "execution_count": 5,
   "id": "76238f17",
   "metadata": {},
   "outputs": [],
   "source": [
    "y_cat_train = to_categorical(y_train)\n",
    "y_cat_test = to_categorical(y_test)"
   ]
  },
  {
   "cell_type": "markdown",
   "id": "d46a4390",
   "metadata": {},
   "source": [
    "# CNN model"
   ]
  },
  {
   "cell_type": "markdown",
   "id": "ff1dfde0",
   "metadata": {},
   "source": [
    "### Define the model"
   ]
  },
  {
   "cell_type": "markdown",
   "id": "86cb91a6",
   "metadata": {},
   "source": [
    "* The first is Convolutional layer: I choose 32 filters for the two first layers and 64 filters for the two last ones.\n",
    "* The second is Pooling layer: I choose MaxPool2D & strides=(1,1) instead of strides=(2,2) or more. Combining convolutional and pooling layers, CNN are able to combine local features and learn more global features of the image.\n",
    "* Dropout is added on to reduce overfitting.\n",
    "* Activation function is 'relu'.\n",
    "* The Flatten layer is use to convert the final feature maps into a one single 1D vector. It combines all the found local features of the previous convolutional layers.\n",
    "* In the end I used the features in two fully-connected (Dense) layers which is just artificial an neural networks (ANN) classifier. In the last layer(Dense(10,activation=\"softmax\")) the net outputs distribution of probability of each class."
   ]
  },
  {
   "cell_type": "code",
   "execution_count": 6,
   "id": "ca2abf84",
   "metadata": {},
   "outputs": [
    {
     "name": "stdout",
     "output_type": "stream",
     "text": [
      "Model: \"sequential\"\n",
      "_________________________________________________________________\n",
      "Layer (type)                 Output Shape              Param #   \n",
      "=================================================================\n",
      "conv2d (Conv2D)              (None, 28, 28, 32)        832       \n",
      "_________________________________________________________________\n",
      "batch_normalization (BatchNo (None, 28, 28, 32)        128       \n",
      "_________________________________________________________________\n",
      "conv2d_1 (Conv2D)            (None, 28, 28, 32)        25632     \n",
      "_________________________________________________________________\n",
      "batch_normalization_1 (Batch (None, 28, 28, 32)        128       \n",
      "_________________________________________________________________\n",
      "max_pooling2d (MaxPooling2D) (None, 14, 14, 32)        0         \n",
      "_________________________________________________________________\n",
      "dropout (Dropout)            (None, 14, 14, 32)        0         \n",
      "_________________________________________________________________\n",
      "conv2d_2 (Conv2D)            (None, 14, 14, 64)        18496     \n",
      "_________________________________________________________________\n",
      "batch_normalization_2 (Batch (None, 14, 14, 64)        256       \n",
      "_________________________________________________________________\n",
      "conv2d_3 (Conv2D)            (None, 14, 14, 64)        36928     \n",
      "_________________________________________________________________\n",
      "batch_normalization_3 (Batch (None, 14, 14, 64)        256       \n",
      "_________________________________________________________________\n",
      "max_pooling2d_1 (MaxPooling2 (None, 7, 7, 64)          0         \n",
      "_________________________________________________________________\n",
      "dropout_1 (Dropout)          (None, 7, 7, 64)          0         \n",
      "_________________________________________________________________\n",
      "flatten (Flatten)            (None, 3136)              0         \n",
      "_________________________________________________________________\n",
      "dense (Dense)                (None, 128)               401536    \n",
      "_________________________________________________________________\n",
      "dropout_2 (Dropout)          (None, 128)               0         \n",
      "_________________________________________________________________\n",
      "dense_1 (Dense)              (None, 10)                1290      \n",
      "=================================================================\n",
      "Total params: 485,482\n",
      "Trainable params: 485,098\n",
      "Non-trainable params: 384\n",
      "_________________________________________________________________\n"
     ]
    }
   ],
   "source": [
    "model = Sequential()\n",
    "\n",
    "model.add(Conv2D(filters=32, \n",
    "                 kernel_size=5, \n",
    "                 padding='same', \n",
    "                 input_shape=(28,28,1), \n",
    "                 activation='relu'))\n",
    "model.add(BatchNormalization())\n",
    "\n",
    "model.add(Conv2D(filters=32, \n",
    "                 kernel_size=5,  \n",
    "                 padding='same', \n",
    "                 activation='relu'))\n",
    "model.add(BatchNormalization())\n",
    "model.add(MaxPool2D(pool_size=(2,2)))\n",
    "model.add(Dropout(0.25))\n",
    "\n",
    "model.add(Conv2D(filters=64, \n",
    "                 kernel_size=3,  \n",
    "                 padding='same',  \n",
    "                 activation='relu'))\n",
    "model.add(BatchNormalization())\n",
    "\n",
    "model.add(Conv2D(filters=64, \n",
    "                 kernel_size=3,  \n",
    "                 padding='same', \n",
    "                 activation='relu'))\n",
    "model.add(BatchNormalization())\n",
    "model.add(MaxPool2D(pool_size=(2,2), strides=(2,2)))\n",
    "model.add(Dropout(0.25))\n",
    "\n",
    "model.add(Flatten())\n",
    "\n",
    "model.add(Dense(128, activation='relu'))\n",
    "model.add(Dropout(0.5))\n",
    "model.add(Dense(10, activation='softmax'))\n",
    "\n",
    "model.summary()"
   ]
  },
  {
   "cell_type": "markdown",
   "id": "1f67dae2",
   "metadata": {},
   "source": [
    "### Set of optimizer & annealer"
   ]
  },
  {
   "cell_type": "markdown",
   "id": "aab1290b",
   "metadata": {},
   "source": [
    "* Once our layers are added to the model, we need to set up a score function, a loss function and an optimizer algorithm.\n",
    "* We define the loss function to measure how poorly our model performs on images with known labels. It is the error rate between the oberved labels and the predicted ones. We use a specific form for categorical classifications (>2 classes) called the \"categorical_crossentropy\".\n",
    "* I choose Adam optimizer (with default values) because this optimizer works faster and provides better result.\n",
    "* The metric function \"accuracy\" is used is to evaluate the performance our model. This metric function is similar to the loss function, except that the results from the metric evaluation are not used when training the model (only for evaluation)."
   ]
  },
  {
   "cell_type": "code",
   "execution_count": 7,
   "id": "31b6a600",
   "metadata": {},
   "outputs": [],
   "source": [
    "model.compile(optimizer='Adam', loss=['categorical_crossentropy'], metrics=['accuracy'])"
   ]
  },
  {
   "cell_type": "markdown",
   "id": "22b759c8",
   "metadata": {},
   "source": [
    "* In order to make the optimizer converge faster and closest to the global minimum of the loss function, i used an annealing method of the learning rate (LR).\n",
    "* The LR is the step by which the optimizer walks through the 'loss landscape'. The higher LR, the bigger are the steps and the quicker is the convergence. However the sampling is very poor with an high LR and the optimizer could probably fall into a local minima.\n",
    "* With the ReduceLROnPlateau function from Keras.callbacks, i choose to reduce the LR by half if the accuracy is not improved after 3 epochs."
   ]
  },
  {
   "cell_type": "code",
   "execution_count": 8,
   "id": "3db0ea07",
   "metadata": {},
   "outputs": [],
   "source": [
    "learning_rate_reduction = ReduceLROnPlateau(monitor='val_accuracy', \n",
    "                                            patience=3, \n",
    "                                            verbose=1, \n",
    "                                            factor=0.5, \n",
    "                                            min_lr=0.00001)"
   ]
  },
  {
   "cell_type": "markdown",
   "id": "3ae914cb",
   "metadata": {},
   "source": [
    "### Data augmentation"
   ]
  },
  {
   "cell_type": "markdown",
   "id": "2f5dcdbb",
   "metadata": {},
   "source": [
    "Data augmentation is added on to prevent overfitting."
   ]
  },
  {
   "cell_type": "code",
   "execution_count": 9,
   "id": "a34ebcd2",
   "metadata": {},
   "outputs": [],
   "source": [
    "train_datagen = ImageDataGenerator()"
   ]
  },
  {
   "cell_type": "markdown",
   "id": "c394bacf",
   "metadata": {},
   "source": [
    "### Fit the model "
   ]
  },
  {
   "cell_type": "code",
   "execution_count": 10,
   "id": "9d7a0691",
   "metadata": {},
   "outputs": [
    {
     "name": "stdout",
     "output_type": "stream",
     "text": [
      "Epoch 1/100\n",
      "938/938 [==============================] - 75s 71ms/step - loss: 0.2827 - accuracy: 0.9153 - val_loss: 0.0476 - val_accuracy: 0.9855\n",
      "Epoch 2/100\n",
      "938/938 [==============================] - 62s 66ms/step - loss: 0.1131 - accuracy: 0.9690 - val_loss: 0.0445 - val_accuracy: 0.9855\n",
      "Epoch 3/100\n",
      "938/938 [==============================] - 62s 66ms/step - loss: 0.0872 - accuracy: 0.9766 - val_loss: 0.0381 - val_accuracy: 0.9881\n",
      "Epoch 4/100\n",
      "938/938 [==============================] - 62s 67ms/step - loss: 0.0713 - accuracy: 0.9805 - val_loss: 0.0381 - val_accuracy: 0.9905\n",
      "Epoch 5/100\n",
      "938/938 [==============================] - 62s 67ms/step - loss: 0.0641 - accuracy: 0.9822 - val_loss: 0.0216 - val_accuracy: 0.9934\n",
      "Epoch 6/100\n",
      "938/938 [==============================] - 62s 67ms/step - loss: 0.0559 - accuracy: 0.9850 - val_loss: 0.0294 - val_accuracy: 0.9911\n",
      "Epoch 7/100\n",
      "938/938 [==============================] - 62s 67ms/step - loss: 0.0493 - accuracy: 0.9861 - val_loss: 0.0369 - val_accuracy: 0.9900\n",
      "Epoch 8/100\n",
      "938/938 [==============================] - 63s 67ms/step - loss: 0.0455 - accuracy: 0.9871 - val_loss: 0.0290 - val_accuracy: 0.9912\n",
      "\n",
      "Epoch 00008: ReduceLROnPlateau reducing learning rate to 0.0005000000237487257.\n",
      "Epoch 9/100\n",
      "938/938 [==============================] - 63s 67ms/step - loss: 0.0286 - accuracy: 0.9920 - val_loss: 0.0161 - val_accuracy: 0.9954\n",
      "Epoch 10/100\n",
      "938/938 [==============================] - 63s 67ms/step - loss: 0.0233 - accuracy: 0.9933 - val_loss: 0.0216 - val_accuracy: 0.9939\n",
      "Epoch 11/100\n",
      "938/938 [==============================] - 63s 67ms/step - loss: 0.0229 - accuracy: 0.9933 - val_loss: 0.0210 - val_accuracy: 0.9949\n",
      "Epoch 12/100\n",
      "938/938 [==============================] - 63s 67ms/step - loss: 0.0206 - accuracy: 0.9938 - val_loss: 0.0187 - val_accuracy: 0.9953\n",
      "\n",
      "Epoch 00012: ReduceLROnPlateau reducing learning rate to 0.0002500000118743628.\n",
      "Epoch 13/100\n",
      "938/938 [==============================] - 63s 67ms/step - loss: 0.0172 - accuracy: 0.9951 - val_loss: 0.0136 - val_accuracy: 0.9966\n",
      "Epoch 14/100\n",
      "938/938 [==============================] - 63s 67ms/step - loss: 0.0127 - accuracy: 0.9961 - val_loss: 0.0181 - val_accuracy: 0.9949\n",
      "Epoch 15/100\n",
      "938/938 [==============================] - 63s 67ms/step - loss: 0.0124 - accuracy: 0.9962 - val_loss: 0.0173 - val_accuracy: 0.9955\n",
      "Epoch 16/100\n",
      "938/938 [==============================] - 63s 67ms/step - loss: 0.0116 - accuracy: 0.9963 - val_loss: 0.0151 - val_accuracy: 0.9961\n",
      "\n",
      "Epoch 00016: ReduceLROnPlateau reducing learning rate to 0.0001250000059371814.\n",
      "Epoch 17/100\n",
      "938/938 [==============================] - 63s 67ms/step - loss: 0.0101 - accuracy: 0.9967 - val_loss: 0.0153 - val_accuracy: 0.9959\n",
      "Epoch 18/100\n",
      "938/938 [==============================] - 63s 67ms/step - loss: 0.0087 - accuracy: 0.9971 - val_loss: 0.0154 - val_accuracy: 0.9963\n",
      "Epoch 19/100\n",
      "938/938 [==============================] - 63s 67ms/step - loss: 0.0090 - accuracy: 0.9971 - val_loss: 0.0173 - val_accuracy: 0.9966\n",
      "\n",
      "Epoch 00019: ReduceLROnPlateau reducing learning rate to 6.25000029685907e-05.\n",
      "Epoch 20/100\n",
      "938/938 [==============================] - 63s 67ms/step - loss: 0.0084 - accuracy: 0.9974 - val_loss: 0.0163 - val_accuracy: 0.9961\n",
      "Epoch 21/100\n",
      "938/938 [==============================] - 63s 67ms/step - loss: 0.0069 - accuracy: 0.9980 - val_loss: 0.0162 - val_accuracy: 0.9961\n",
      "Epoch 22/100\n",
      "938/938 [==============================] - 63s 67ms/step - loss: 0.0069 - accuracy: 0.9978 - val_loss: 0.0162 - val_accuracy: 0.9964\n",
      "\n",
      "Epoch 00022: ReduceLROnPlateau reducing learning rate to 3.125000148429535e-05.\n",
      "Epoch 23/100\n",
      "938/938 [==============================] - 63s 67ms/step - loss: 0.0073 - accuracy: 0.9976 - val_loss: 0.0165 - val_accuracy: 0.9962\n",
      "Epoch 24/100\n",
      "938/938 [==============================] - 63s 67ms/step - loss: 0.0062 - accuracy: 0.9979 - val_loss: 0.0167 - val_accuracy: 0.9963\n",
      "Epoch 25/100\n",
      "938/938 [==============================] - 63s 67ms/step - loss: 0.0059 - accuracy: 0.9981 - val_loss: 0.0163 - val_accuracy: 0.9966\n",
      "\n",
      "Epoch 00025: ReduceLROnPlateau reducing learning rate to 1.5625000742147677e-05.\n",
      "Epoch 26/100\n",
      "938/938 [==============================] - 63s 67ms/step - loss: 0.0059 - accuracy: 0.9980 - val_loss: 0.0162 - val_accuracy: 0.9962\n",
      "Epoch 27/100\n",
      "938/938 [==============================] - 63s 67ms/step - loss: 0.0060 - accuracy: 0.9980 - val_loss: 0.0160 - val_accuracy: 0.9966\n",
      "Epoch 28/100\n",
      "938/938 [==============================] - 63s 67ms/step - loss: 0.0056 - accuracy: 0.9982 - val_loss: 0.0164 - val_accuracy: 0.9964\n",
      "\n",
      "Epoch 00028: ReduceLROnPlateau reducing learning rate to 1e-05.\n",
      "Epoch 29/100\n",
      "938/938 [==============================] - 63s 67ms/step - loss: 0.0054 - accuracy: 0.9982 - val_loss: 0.0165 - val_accuracy: 0.9965\n",
      "Epoch 30/100\n",
      "938/938 [==============================] - 62s 66ms/step - loss: 0.0059 - accuracy: 0.9981 - val_loss: 0.0165 - val_accuracy: 0.9965\n",
      "Epoch 31/100\n",
      "938/938 [==============================] - 62s 66ms/step - loss: 0.0058 - accuracy: 0.9983 - val_loss: 0.0165 - val_accuracy: 0.9964\n",
      "Epoch 32/100\n",
      "938/938 [==============================] - 62s 66ms/step - loss: 0.0056 - accuracy: 0.9980 - val_loss: 0.0163 - val_accuracy: 0.9965\n",
      "Epoch 33/100\n",
      "938/938 [==============================] - 62s 66ms/step - loss: 0.0048 - accuracy: 0.9984 - val_loss: 0.0165 - val_accuracy: 0.9965\n",
      "Epoch 34/100\n",
      "938/938 [==============================] - 62s 66ms/step - loss: 0.0057 - accuracy: 0.9982 - val_loss: 0.0164 - val_accuracy: 0.9965\n",
      "Epoch 35/100\n",
      "938/938 [==============================] - 62s 66ms/step - loss: 0.0056 - accuracy: 0.9982 - val_loss: 0.0166 - val_accuracy: 0.9965\n",
      "Epoch 36/100\n",
      "938/938 [==============================] - 62s 66ms/step - loss: 0.0053 - accuracy: 0.9983 - val_loss: 0.0167 - val_accuracy: 0.9964\n",
      "Epoch 37/100\n",
      "938/938 [==============================] - 62s 66ms/step - loss: 0.0053 - accuracy: 0.9981 - val_loss: 0.0169 - val_accuracy: 0.9965\n",
      "Epoch 38/100\n",
      "938/938 [==============================] - 62s 66ms/step - loss: 0.0052 - accuracy: 0.9982 - val_loss: 0.0169 - val_accuracy: 0.9965\n",
      "Epoch 39/100\n",
      "938/938 [==============================] - 62s 66ms/step - loss: 0.0050 - accuracy: 0.9984 - val_loss: 0.0169 - val_accuracy: 0.9965\n",
      "Epoch 40/100\n",
      "938/938 [==============================] - 62s 66ms/step - loss: 0.0052 - accuracy: 0.9983 - val_loss: 0.0166 - val_accuracy: 0.9965\n",
      "Epoch 41/100\n",
      "938/938 [==============================] - 62s 66ms/step - loss: 0.0053 - accuracy: 0.9982 - val_loss: 0.0167 - val_accuracy: 0.9964\n",
      "Epoch 42/100\n",
      "938/938 [==============================] - 62s 66ms/step - loss: 0.0060 - accuracy: 0.9980 - val_loss: 0.0167 - val_accuracy: 0.9964\n",
      "Epoch 43/100\n",
      "938/938 [==============================] - 62s 66ms/step - loss: 0.0057 - accuracy: 0.9983 - val_loss: 0.0168 - val_accuracy: 0.9964\n",
      "Epoch 44/100\n",
      "938/938 [==============================] - 62s 66ms/step - loss: 0.0050 - accuracy: 0.9983 - val_loss: 0.0167 - val_accuracy: 0.9965\n",
      "Epoch 45/100\n",
      "938/938 [==============================] - 62s 66ms/step - loss: 0.0048 - accuracy: 0.9983 - val_loss: 0.0167 - val_accuracy: 0.9964\n",
      "Epoch 46/100\n",
      "938/938 [==============================] - 62s 66ms/step - loss: 0.0047 - accuracy: 0.9985 - val_loss: 0.0168 - val_accuracy: 0.9961\n",
      "Epoch 47/100\n",
      "938/938 [==============================] - 62s 66ms/step - loss: 0.0054 - accuracy: 0.9982 - val_loss: 0.0167 - val_accuracy: 0.9964\n",
      "Epoch 48/100\n",
      "938/938 [==============================] - 62s 66ms/step - loss: 0.0052 - accuracy: 0.9984 - val_loss: 0.0166 - val_accuracy: 0.9963\n",
      "Epoch 49/100\n",
      "938/938 [==============================] - 62s 66ms/step - loss: 0.0050 - accuracy: 0.9982 - val_loss: 0.0166 - val_accuracy: 0.9965\n",
      "Epoch 50/100\n",
      "938/938 [==============================] - 62s 66ms/step - loss: 0.0054 - accuracy: 0.9983 - val_loss: 0.0166 - val_accuracy: 0.9965\n",
      "Epoch 51/100\n",
      "938/938 [==============================] - 62s 66ms/step - loss: 0.0046 - accuracy: 0.9986 - val_loss: 0.0166 - val_accuracy: 0.9964\n",
      "Epoch 52/100\n",
      "938/938 [==============================] - 62s 66ms/step - loss: 0.0050 - accuracy: 0.9985 - val_loss: 0.0168 - val_accuracy: 0.9964\n",
      "Epoch 53/100\n",
      "938/938 [==============================] - 62s 66ms/step - loss: 0.0045 - accuracy: 0.9985 - val_loss: 0.0167 - val_accuracy: 0.9964\n",
      "Epoch 54/100\n",
      "938/938 [==============================] - 62s 66ms/step - loss: 0.0050 - accuracy: 0.9983 - val_loss: 0.0170 - val_accuracy: 0.9962\n",
      "Epoch 55/100\n",
      "938/938 [==============================] - 62s 66ms/step - loss: 0.0052 - accuracy: 0.9984 - val_loss: 0.0171 - val_accuracy: 0.9962\n",
      "Epoch 56/100\n",
      "938/938 [==============================] - 62s 66ms/step - loss: 0.0048 - accuracy: 0.9985 - val_loss: 0.0170 - val_accuracy: 0.9963\n",
      "Epoch 57/100\n",
      "938/938 [==============================] - 62s 66ms/step - loss: 0.0048 - accuracy: 0.9986 - val_loss: 0.0170 - val_accuracy: 0.9964\n",
      "Epoch 58/100\n",
      "938/938 [==============================] - 62s 66ms/step - loss: 0.0043 - accuracy: 0.9986 - val_loss: 0.0169 - val_accuracy: 0.9963\n",
      "Epoch 59/100\n",
      "938/938 [==============================] - 62s 66ms/step - loss: 0.0046 - accuracy: 0.9984 - val_loss: 0.0170 - val_accuracy: 0.9964\n",
      "Epoch 60/100\n",
      "938/938 [==============================] - 62s 66ms/step - loss: 0.0042 - accuracy: 0.9986 - val_loss: 0.0169 - val_accuracy: 0.9964\n",
      "Epoch 61/100\n",
      "938/938 [==============================] - 62s 66ms/step - loss: 0.0048 - accuracy: 0.9984 - val_loss: 0.0170 - val_accuracy: 0.9963\n",
      "Epoch 62/100\n",
      "938/938 [==============================] - 62s 66ms/step - loss: 0.0046 - accuracy: 0.9984 - val_loss: 0.0171 - val_accuracy: 0.9963\n",
      "Epoch 63/100\n",
      "938/938 [==============================] - 62s 66ms/step - loss: 0.0046 - accuracy: 0.9984 - val_loss: 0.0170 - val_accuracy: 0.9962\n",
      "Epoch 64/100\n",
      "938/938 [==============================] - 62s 66ms/step - loss: 0.0047 - accuracy: 0.9984 - val_loss: 0.0172 - val_accuracy: 0.9962\n",
      "Epoch 65/100\n",
      "938/938 [==============================] - 63s 67ms/step - loss: 0.0049 - accuracy: 0.9982 - val_loss: 0.0171 - val_accuracy: 0.9965\n",
      "Epoch 66/100\n",
      "938/938 [==============================] - 63s 67ms/step - loss: 0.0044 - accuracy: 0.9985 - val_loss: 0.0172 - val_accuracy: 0.9965\n",
      "Epoch 67/100\n",
      "938/938 [==============================] - 63s 67ms/step - loss: 0.0046 - accuracy: 0.9984 - val_loss: 0.0171 - val_accuracy: 0.9965\n",
      "Epoch 68/100\n",
      "938/938 [==============================] - 63s 67ms/step - loss: 0.0045 - accuracy: 0.9984 - val_loss: 0.0171 - val_accuracy: 0.9962\n",
      "Epoch 69/100\n",
      "938/938 [==============================] - 63s 67ms/step - loss: 0.0039 - accuracy: 0.9988 - val_loss: 0.0172 - val_accuracy: 0.9963\n",
      "Epoch 70/100\n",
      "938/938 [==============================] - 63s 67ms/step - loss: 0.0042 - accuracy: 0.9987 - val_loss: 0.0173 - val_accuracy: 0.9964\n",
      "Epoch 71/100\n",
      "938/938 [==============================] - 63s 67ms/step - loss: 0.0044 - accuracy: 0.9986 - val_loss: 0.0174 - val_accuracy: 0.9964\n",
      "Epoch 72/100\n",
      "938/938 [==============================] - 63s 67ms/step - loss: 0.0048 - accuracy: 0.9985 - val_loss: 0.0173 - val_accuracy: 0.9965\n",
      "Epoch 73/100\n",
      "938/938 [==============================] - 63s 67ms/step - loss: 0.0042 - accuracy: 0.9987 - val_loss: 0.0173 - val_accuracy: 0.9965\n",
      "Epoch 74/100\n",
      "938/938 [==============================] - 63s 67ms/step - loss: 0.0043 - accuracy: 0.9985 - val_loss: 0.0173 - val_accuracy: 0.9965\n",
      "Epoch 75/100\n",
      "938/938 [==============================] - 63s 67ms/step - loss: 0.0038 - accuracy: 0.9988 - val_loss: 0.0174 - val_accuracy: 0.9965\n",
      "Epoch 76/100\n",
      "938/938 [==============================] - 63s 67ms/step - loss: 0.0043 - accuracy: 0.9985 - val_loss: 0.0175 - val_accuracy: 0.9964\n",
      "Epoch 77/100\n",
      "938/938 [==============================] - 63s 67ms/step - loss: 0.0040 - accuracy: 0.9986 - val_loss: 0.0176 - val_accuracy: 0.9964\n",
      "Epoch 78/100\n",
      "938/938 [==============================] - 63s 67ms/step - loss: 0.0047 - accuracy: 0.9985 - val_loss: 0.0178 - val_accuracy: 0.9963\n",
      "Epoch 79/100\n",
      "938/938 [==============================] - 63s 67ms/step - loss: 0.0046 - accuracy: 0.9985 - val_loss: 0.0176 - val_accuracy: 0.9964\n",
      "Epoch 80/100\n",
      "938/938 [==============================] - 63s 67ms/step - loss: 0.0036 - accuracy: 0.9987 - val_loss: 0.0178 - val_accuracy: 0.9964\n",
      "Epoch 81/100\n",
      "938/938 [==============================] - 63s 68ms/step - loss: 0.0045 - accuracy: 0.9985 - val_loss: 0.0178 - val_accuracy: 0.9964\n",
      "Epoch 82/100\n",
      "938/938 [==============================] - 63s 67ms/step - loss: 0.0043 - accuracy: 0.9985 - val_loss: 0.0177 - val_accuracy: 0.9963\n",
      "Epoch 83/100\n",
      "938/938 [==============================] - 63s 67ms/step - loss: 0.0042 - accuracy: 0.9986 - val_loss: 0.0177 - val_accuracy: 0.9964\n",
      "Epoch 84/100\n",
      "938/938 [==============================] - 63s 67ms/step - loss: 0.0043 - accuracy: 0.9985 - val_loss: 0.0179 - val_accuracy: 0.9963\n",
      "Epoch 85/100\n",
      "938/938 [==============================] - 63s 67ms/step - loss: 0.0046 - accuracy: 0.9985 - val_loss: 0.0178 - val_accuracy: 0.9963\n",
      "Epoch 86/100\n",
      "938/938 [==============================] - 63s 67ms/step - loss: 0.0044 - accuracy: 0.9987 - val_loss: 0.0180 - val_accuracy: 0.9963\n",
      "Epoch 87/100\n",
      "938/938 [==============================] - 63s 67ms/step - loss: 0.0046 - accuracy: 0.9985 - val_loss: 0.0180 - val_accuracy: 0.9963\n",
      "Epoch 88/100\n",
      "938/938 [==============================] - 63s 67ms/step - loss: 0.0042 - accuracy: 0.9987 - val_loss: 0.0181 - val_accuracy: 0.9963\n",
      "Epoch 89/100\n",
      "938/938 [==============================] - 63s 67ms/step - loss: 0.0039 - accuracy: 0.9988 - val_loss: 0.0182 - val_accuracy: 0.9963\n",
      "Epoch 90/100\n",
      "938/938 [==============================] - 63s 67ms/step - loss: 0.0042 - accuracy: 0.9986 - val_loss: 0.0182 - val_accuracy: 0.9964\n",
      "Epoch 91/100\n",
      "938/938 [==============================] - 63s 67ms/step - loss: 0.0042 - accuracy: 0.9988 - val_loss: 0.0179 - val_accuracy: 0.9965\n",
      "Epoch 92/100\n",
      "938/938 [==============================] - 63s 67ms/step - loss: 0.0045 - accuracy: 0.9985 - val_loss: 0.0177 - val_accuracy: 0.9964\n",
      "Epoch 93/100\n",
      "938/938 [==============================] - 63s 67ms/step - loss: 0.0037 - accuracy: 0.9988 - val_loss: 0.0178 - val_accuracy: 0.9964\n",
      "Epoch 94/100\n",
      "938/938 [==============================] - 63s 67ms/step - loss: 0.0043 - accuracy: 0.9986 - val_loss: 0.0181 - val_accuracy: 0.9962\n",
      "Epoch 95/100\n",
      "938/938 [==============================] - 63s 67ms/step - loss: 0.0040 - accuracy: 0.9987 - val_loss: 0.0180 - val_accuracy: 0.9962\n",
      "Epoch 96/100\n",
      "938/938 [==============================] - 63s 67ms/step - loss: 0.0041 - accuracy: 0.9985 - val_loss: 0.0179 - val_accuracy: 0.9963\n",
      "Epoch 97/100\n",
      "938/938 [==============================] - 63s 67ms/step - loss: 0.0044 - accuracy: 0.9986 - val_loss: 0.0178 - val_accuracy: 0.9963\n",
      "Epoch 98/100\n",
      "938/938 [==============================] - 63s 67ms/step - loss: 0.0039 - accuracy: 0.9987 - val_loss: 0.0180 - val_accuracy: 0.9962\n",
      "Epoch 99/100\n",
      "938/938 [==============================] - 63s 67ms/step - loss: 0.0040 - accuracy: 0.9985 - val_loss: 0.0179 - val_accuracy: 0.9963\n",
      "Epoch 100/100\n",
      "938/938 [==============================] - 63s 67ms/step - loss: 0.0034 - accuracy: 0.9989 - val_loss: 0.0181 - val_accuracy: 0.9962\n"
     ]
    }
   ],
   "source": [
    "start = time.time()\n",
    "model.fit(train_datagen.flow(X_train, y_cat_train, batch_size=64), epochs=100, \n",
    "                             validation_data=(X_test, y_cat_test), callbacks=[learning_rate_reduction])\n",
    "total_time = round(time.time() - start, 2)"
   ]
  },
  {
   "cell_type": "code",
   "execution_count": 11,
   "id": "d1c8531b",
   "metadata": {},
   "outputs": [
    {
     "name": "stdout",
     "output_type": "stream",
     "text": [
      "Train accuracy: 0.9989166855812073\n",
      "Validation accuracy: 0.9965999722480774\n",
      "Training time: 6278.82\n"
     ]
    }
   ],
   "source": [
    "print('Train accuracy:', max(model.history.history['accuracy']))\n",
    "print('Validation accuracy:', max(model.history.history['val_accuracy']))\n",
    "print('Training time:', total_time)"
   ]
  },
  {
   "cell_type": "markdown",
   "id": "14d36f5b",
   "metadata": {},
   "source": [
    "# Evaluate the model"
   ]
  },
  {
   "cell_type": "markdown",
   "id": "f5e8ea4d",
   "metadata": {},
   "source": [
    "### Training and Validation curves"
   ]
  },
  {
   "cell_type": "code",
   "execution_count": 12,
   "id": "d671ffa4",
   "metadata": {},
   "outputs": [
    {
     "data": {
      "text/html": [
       "<div>\n",
       "<style scoped>\n",
       "    .dataframe tbody tr th:only-of-type {\n",
       "        vertical-align: middle;\n",
       "    }\n",
       "\n",
       "    .dataframe tbody tr th {\n",
       "        vertical-align: top;\n",
       "    }\n",
       "\n",
       "    .dataframe thead th {\n",
       "        text-align: right;\n",
       "    }\n",
       "</style>\n",
       "<table border=\"1\" class=\"dataframe\">\n",
       "  <thead>\n",
       "    <tr style=\"text-align: right;\">\n",
       "      <th></th>\n",
       "      <th>loss</th>\n",
       "      <th>accuracy</th>\n",
       "      <th>val_loss</th>\n",
       "      <th>val_accuracy</th>\n",
       "      <th>lr</th>\n",
       "    </tr>\n",
       "  </thead>\n",
       "  <tbody>\n",
       "    <tr>\n",
       "      <th>0</th>\n",
       "      <td>0.282727</td>\n",
       "      <td>0.915283</td>\n",
       "      <td>0.047612</td>\n",
       "      <td>0.9855</td>\n",
       "      <td>0.00100</td>\n",
       "    </tr>\n",
       "    <tr>\n",
       "      <th>1</th>\n",
       "      <td>0.113107</td>\n",
       "      <td>0.969033</td>\n",
       "      <td>0.044501</td>\n",
       "      <td>0.9855</td>\n",
       "      <td>0.00100</td>\n",
       "    </tr>\n",
       "    <tr>\n",
       "      <th>2</th>\n",
       "      <td>0.087198</td>\n",
       "      <td>0.976617</td>\n",
       "      <td>0.038077</td>\n",
       "      <td>0.9881</td>\n",
       "      <td>0.00100</td>\n",
       "    </tr>\n",
       "    <tr>\n",
       "      <th>3</th>\n",
       "      <td>0.071346</td>\n",
       "      <td>0.980533</td>\n",
       "      <td>0.038060</td>\n",
       "      <td>0.9905</td>\n",
       "      <td>0.00100</td>\n",
       "    </tr>\n",
       "    <tr>\n",
       "      <th>4</th>\n",
       "      <td>0.064061</td>\n",
       "      <td>0.982150</td>\n",
       "      <td>0.021610</td>\n",
       "      <td>0.9934</td>\n",
       "      <td>0.00100</td>\n",
       "    </tr>\n",
       "    <tr>\n",
       "      <th>...</th>\n",
       "      <td>...</td>\n",
       "      <td>...</td>\n",
       "      <td>...</td>\n",
       "      <td>...</td>\n",
       "      <td>...</td>\n",
       "    </tr>\n",
       "    <tr>\n",
       "      <th>95</th>\n",
       "      <td>0.004132</td>\n",
       "      <td>0.998467</td>\n",
       "      <td>0.017921</td>\n",
       "      <td>0.9963</td>\n",
       "      <td>0.00001</td>\n",
       "    </tr>\n",
       "    <tr>\n",
       "      <th>96</th>\n",
       "      <td>0.004381</td>\n",
       "      <td>0.998600</td>\n",
       "      <td>0.017787</td>\n",
       "      <td>0.9963</td>\n",
       "      <td>0.00001</td>\n",
       "    </tr>\n",
       "    <tr>\n",
       "      <th>97</th>\n",
       "      <td>0.003867</td>\n",
       "      <td>0.998700</td>\n",
       "      <td>0.017969</td>\n",
       "      <td>0.9962</td>\n",
       "      <td>0.00001</td>\n",
       "    </tr>\n",
       "    <tr>\n",
       "      <th>98</th>\n",
       "      <td>0.003988</td>\n",
       "      <td>0.998533</td>\n",
       "      <td>0.017931</td>\n",
       "      <td>0.9963</td>\n",
       "      <td>0.00001</td>\n",
       "    </tr>\n",
       "    <tr>\n",
       "      <th>99</th>\n",
       "      <td>0.003408</td>\n",
       "      <td>0.998917</td>\n",
       "      <td>0.018115</td>\n",
       "      <td>0.9962</td>\n",
       "      <td>0.00001</td>\n",
       "    </tr>\n",
       "  </tbody>\n",
       "</table>\n",
       "<p>100 rows × 5 columns</p>\n",
       "</div>"
      ],
      "text/plain": [
       "        loss  accuracy  val_loss  val_accuracy       lr\n",
       "0   0.282727  0.915283  0.047612        0.9855  0.00100\n",
       "1   0.113107  0.969033  0.044501        0.9855  0.00100\n",
       "2   0.087198  0.976617  0.038077        0.9881  0.00100\n",
       "3   0.071346  0.980533  0.038060        0.9905  0.00100\n",
       "4   0.064061  0.982150  0.021610        0.9934  0.00100\n",
       "..       ...       ...       ...           ...      ...\n",
       "95  0.004132  0.998467  0.017921        0.9963  0.00001\n",
       "96  0.004381  0.998600  0.017787        0.9963  0.00001\n",
       "97  0.003867  0.998700  0.017969        0.9962  0.00001\n",
       "98  0.003988  0.998533  0.017931        0.9963  0.00001\n",
       "99  0.003408  0.998917  0.018115        0.9962  0.00001\n",
       "\n",
       "[100 rows x 5 columns]"
      ]
     },
     "execution_count": 12,
     "metadata": {},
     "output_type": "execute_result"
    }
   ],
   "source": [
    "history_df = pd.DataFrame(model.history.history)\n",
    "history_df"
   ]
  },
  {
   "cell_type": "code",
   "execution_count": 13,
   "id": "95616b36",
   "metadata": {},
   "outputs": [
    {
     "data": {
      "text/plain": [
       "<AxesSubplot:>"
      ]
     },
     "execution_count": 13,
     "metadata": {},
     "output_type": "execute_result"
    },
    {
     "data": {
      "image/png": "[encoded data removed]",
      "text/plain": [
       "<Figure size 432x288 with 1 Axes>"
      ]
     },
     "metadata": {
      "needs_background": "light"
     },
     "output_type": "display_data"
    }
   ],
   "source": [
    "history_df.plot()"
   ]
  },
  {
   "cell_type": "markdown",
   "id": "d678edfa",
   "metadata": {},
   "source": [
    "The validation accuracy and the training accuracy keep getting better almost every time during the training. That means that our model does not overfit the training set."
   ]
  },
  {
   "cell_type": "markdown",
   "id": "f1cb8a83",
   "metadata": {},
   "source": [
    "### Confusion matrix"
   ]
  },
  {
   "cell_type": "code",
   "execution_count": 14,
   "id": "a39a2cb7",
   "metadata": {},
   "outputs": [],
   "source": [
    "def plot_confusion_matrix(cm, classes,\n",
    "                          normalize=False,\n",
    "                          title='Confusion matrix',\n",
    "                          cmap=plt.cm.Blues):\n",
    "    \n",
    "    plt.imshow(cm, interpolation='nearest', cmap=cmap)\n",
    "    plt.title(title)\n",
    "    plt.colorbar()\n",
    "    tick_marks = np.arange(len(classes))\n",
    "    plt.xticks(tick_marks, classes, rotation=45)\n",
    "    plt.yticks(tick_marks, classes)\n",
    "\n",
    "    if normalize:\n",
    "        cm = cm.astype('float') / cm.sum(axis=1)[:, np.newaxis]\n",
    "\n",
    "    thresh = cm.max() / 2.\n",
    "    for i, j in itertools.product(range(cm.shape[0]), range(cm.shape[1])):\n",
    "        plt.text(j, i, cm[i, j],\n",
    "                 horizontalalignment=\"center\",\n",
    "                 color=\"white\" if cm[i, j] > thresh else \"black\")\n",
    "\n",
    "    plt.tight_layout()\n",
    "    plt.ylabel('True label')\n",
    "    plt.xlabel('Predicted label')"
   ]
  },
  {
   "cell_type": "code",
   "execution_count": 15,
   "id": "7f7ab925",
   "metadata": {},
   "outputs": [
    {
     "data": {
      "image/png": "[encoded data removed]",
      "text/plain": [
       "<Figure size 720x432 with 2 Axes>"
      ]
     },
     "metadata": {
      "needs_background": "light"
     },
     "output_type": "display_data"
    }
   ],
   "source": [
    "y_predict = model.predict(X_test)\n",
    "y_pred_classes = np.argmax(y_predict, axis = 1) \n",
    "y_true = np.argmax(y_cat_test, axis = 1) \n",
    "\n",
    "plt.figure(figsize=(10,6))\n",
    "confusion_mtx = confusion_matrix(y_true, y_pred_classes) \n",
    "plot_confusion_matrix(confusion_mtx, classes = range(10)) "
   ]
  },
  {
   "cell_type": "markdown",
   "id": "d3b6c507",
   "metadata": {},
   "source": [
    "# Predit values"
   ]
  },
  {
   "cell_type": "code",
   "execution_count": 16,
   "id": "e61aab56",
   "metadata": {},
   "outputs": [],
   "source": [
    "def show(x):\n",
    "  image = X_test[x]\n",
    "  pixels = image.reshape((28, 28))\n",
    "  plt.imshow(pixels, cmap='gray')\n",
    "  plt.show()\n",
    "  print(\"Predict:\", np.argmax(y_predict[x]))\n",
    "  print(\"Answer:\", y_test[x])"
   ]
  },
  {
   "cell_type": "code",
   "execution_count": 17,
   "id": "65eaad4c",
   "metadata": {},
   "outputs": [
    {
     "data": {
      "image/png": "[encoded data removed]",
      "text/plain": [
       "<Figure size 432x288 with 1 Axes>"
      ]
     },
     "metadata": {
      "needs_background": "light"
     },
     "output_type": "display_data"
    },
    {
     "name": "stdout",
     "output_type": "stream",
     "text": [
      "Predict: 4\n",
      "Answer: 4\n"
     ]
    }
   ],
   "source": [
    "show(4)"
   ]
  },
  {
   "cell_type": "markdown",
   "id": "27e26fb9",
   "metadata": {},
   "source": [
    "# DONE"
   ]
  }
 ],
 "metadata": {
  "kernelspec": {
   "display_name": "Python 3 (ipykernel)",
   "language": "python",
   "name": "python3"
  },
  "language_info": {
   "codemirror_mode": {
    "name": "ipython",
    "version": 3
   },
   "file_extension": ".py",
   "mimetype": "text/x-python",
   "name": "python",
   "nbconvert_exporter": "python",
   "pygments_lexer": "ipython3",
   "version": "3.8.11"
  }
 },
 "nbformat": 4,
 "nbformat_minor": 5
}
